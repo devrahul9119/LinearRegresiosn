{
 "cells": [
  {
   "cell_type": "code",
   "execution_count": 1,
   "id": "9a761a9e-162e-4e4b-8786-0ab519a9db2a",
   "metadata": {},
   "outputs": [],
   "source": [
    "import pandas as pd\n",
    "import numpy as np\n",
    "from sklearn.datasets import make_regression"
   ]
  },
  {
   "cell_type": "code",
   "execution_count": 43,
   "id": "e4d1cb7b-626b-42e3-935e-76f469edd496",
   "metadata": {},
   "outputs": [],
   "source": [
    "X,y = make_regression(n_samples = 1000,n_features = 4,noise = 25)"
   ]
  },
  {
   "cell_type": "code",
   "execution_count": 44,
   "id": "9f68cb99-f9c9-4357-8644-1580fd5948df",
   "metadata": {},
   "outputs": [],
   "source": [
    "from sklearn.linear_model import LinearRegression"
   ]
  },
  {
   "cell_type": "code",
   "execution_count": 45,
   "id": "13188ef8-33d3-4ed6-8201-361ae800aebe",
   "metadata": {},
   "outputs": [],
   "source": [
    "lr = LinearRegression()"
   ]
  },
  {
   "cell_type": "markdown",
   "id": "862e475e-25c4-411c-9fe4-a06e3e4a3ae5",
   "metadata": {},
   "source": [
    "Scikit-Learn class Multiple LinearRegression"
   ]
  },
  {
   "cell_type": "code",
   "execution_count": 50,
   "id": "26ebb83d-17f6-42ad-88bd-10ae2ee38ad3",
   "metadata": {},
   "outputs": [],
   "source": [
    "from sklearn.model_selection import train_test_split\n",
    "X_train,X_test,y_train,y_test = train_test_split(X,y,test_size = 0.2)"
   ]
  },
  {
   "cell_type": "code",
   "execution_count": 51,
   "id": "ac1a61c0-b6ae-4811-b4c7-a0e3011345c0",
   "metadata": {},
   "outputs": [
    {
     "data": {
      "text/html": [
       "<style>#sk-container-id-6 {color: black;}#sk-container-id-6 pre{padding: 0;}#sk-container-id-6 div.sk-toggleable {background-color: white;}#sk-container-id-6 label.sk-toggleable__label {cursor: pointer;display: block;width: 100%;margin-bottom: 0;padding: 0.3em;box-sizing: border-box;text-align: center;}#sk-container-id-6 label.sk-toggleable__label-arrow:before {content: \"▸\";float: left;margin-right: 0.25em;color: #696969;}#sk-container-id-6 label.sk-toggleable__label-arrow:hover:before {color: black;}#sk-container-id-6 div.sk-estimator:hover label.sk-toggleable__label-arrow:before {color: black;}#sk-container-id-6 div.sk-toggleable__content {max-height: 0;max-width: 0;overflow: hidden;text-align: left;background-color: #f0f8ff;}#sk-container-id-6 div.sk-toggleable__content pre {margin: 0.2em;color: black;border-radius: 0.25em;background-color: #f0f8ff;}#sk-container-id-6 input.sk-toggleable__control:checked~div.sk-toggleable__content {max-height: 200px;max-width: 100%;overflow: auto;}#sk-container-id-6 input.sk-toggleable__control:checked~label.sk-toggleable__label-arrow:before {content: \"▾\";}#sk-container-id-6 div.sk-estimator input.sk-toggleable__control:checked~label.sk-toggleable__label {background-color: #d4ebff;}#sk-container-id-6 div.sk-label input.sk-toggleable__control:checked~label.sk-toggleable__label {background-color: #d4ebff;}#sk-container-id-6 input.sk-hidden--visually {border: 0;clip: rect(1px 1px 1px 1px);clip: rect(1px, 1px, 1px, 1px);height: 1px;margin: -1px;overflow: hidden;padding: 0;position: absolute;width: 1px;}#sk-container-id-6 div.sk-estimator {font-family: monospace;background-color: #f0f8ff;border: 1px dotted black;border-radius: 0.25em;box-sizing: border-box;margin-bottom: 0.5em;}#sk-container-id-6 div.sk-estimator:hover {background-color: #d4ebff;}#sk-container-id-6 div.sk-parallel-item::after {content: \"\";width: 100%;border-bottom: 1px solid gray;flex-grow: 1;}#sk-container-id-6 div.sk-label:hover label.sk-toggleable__label {background-color: #d4ebff;}#sk-container-id-6 div.sk-serial::before {content: \"\";position: absolute;border-left: 1px solid gray;box-sizing: border-box;top: 0;bottom: 0;left: 50%;z-index: 0;}#sk-container-id-6 div.sk-serial {display: flex;flex-direction: column;align-items: center;background-color: white;padding-right: 0.2em;padding-left: 0.2em;position: relative;}#sk-container-id-6 div.sk-item {position: relative;z-index: 1;}#sk-container-id-6 div.sk-parallel {display: flex;align-items: stretch;justify-content: center;background-color: white;position: relative;}#sk-container-id-6 div.sk-item::before, #sk-container-id-6 div.sk-parallel-item::before {content: \"\";position: absolute;border-left: 1px solid gray;box-sizing: border-box;top: 0;bottom: 0;left: 50%;z-index: -1;}#sk-container-id-6 div.sk-parallel-item {display: flex;flex-direction: column;z-index: 1;position: relative;background-color: white;}#sk-container-id-6 div.sk-parallel-item:first-child::after {align-self: flex-end;width: 50%;}#sk-container-id-6 div.sk-parallel-item:last-child::after {align-self: flex-start;width: 50%;}#sk-container-id-6 div.sk-parallel-item:only-child::after {width: 0;}#sk-container-id-6 div.sk-dashed-wrapped {border: 1px dashed gray;margin: 0 0.4em 0.5em 0.4em;box-sizing: border-box;padding-bottom: 0.4em;background-color: white;}#sk-container-id-6 div.sk-label label {font-family: monospace;font-weight: bold;display: inline-block;line-height: 1.2em;}#sk-container-id-6 div.sk-label-container {text-align: center;}#sk-container-id-6 div.sk-container {/* jupyter's `normalize.less` sets `[hidden] { display: none; }` but bootstrap.min.css set `[hidden] { display: none !important; }` so we also need the `!important` here to be able to override the default hidden behavior on the sphinx rendered scikit-learn.org. See: https://github.com/scikit-learn/scikit-learn/issues/21755 */display: inline-block !important;position: relative;}#sk-container-id-6 div.sk-text-repr-fallback {display: none;}</style><div id=\"sk-container-id-6\" class=\"sk-top-container\"><div class=\"sk-text-repr-fallback\"><pre>LinearRegression()</pre><b>In a Jupyter environment, please rerun this cell to show the HTML representation or trust the notebook. <br />On GitHub, the HTML representation is unable to render, please try loading this page with nbviewer.org.</b></div><div class=\"sk-container\" hidden><div class=\"sk-item\"><div class=\"sk-estimator sk-toggleable\"><input class=\"sk-toggleable__control sk-hidden--visually\" id=\"sk-estimator-id-6\" type=\"checkbox\" checked><label for=\"sk-estimator-id-6\" class=\"sk-toggleable__label sk-toggleable__label-arrow\">LinearRegression</label><div class=\"sk-toggleable__content\"><pre>LinearRegression()</pre></div></div></div></div></div>"
      ],
      "text/plain": [
       "LinearRegression()"
      ]
     },
     "execution_count": 51,
     "metadata": {},
     "output_type": "execute_result"
    }
   ],
   "source": [
    "lr.fit(X_train,y_train)"
   ]
  },
  {
   "cell_type": "code",
   "execution_count": 62,
   "id": "21d5c0cd-fecc-4d93-ad58-2e4e1503ca7d",
   "metadata": {},
   "outputs": [
    {
     "data": {
      "text/plain": [
       "array([37.485471  ,  6.12047637, 39.10571707, 15.71954895])"
      ]
     },
     "execution_count": 62,
     "metadata": {},
     "output_type": "execute_result"
    }
   ],
   "source": [
    "lr.coef_"
   ]
  },
  {
   "cell_type": "code",
   "execution_count": 63,
   "id": "52c3895b-4ea8-42c6-92ed-85eb47eb1055",
   "metadata": {},
   "outputs": [
    {
     "data": {
      "text/plain": [
       "0.6971541714767686"
      ]
     },
     "execution_count": 63,
     "metadata": {},
     "output_type": "execute_result"
    }
   ],
   "source": [
    "lr.intercept_"
   ]
  },
  {
   "cell_type": "code",
   "execution_count": 52,
   "id": "98f3b0c2-ca21-4b27-8362-dbf440a5337a",
   "metadata": {},
   "outputs": [],
   "source": [
    "y_pred = lr.predict(X_test)"
   ]
  },
  {
   "cell_type": "code",
   "execution_count": 53,
   "id": "8de5a865-a224-4c69-a588-0e8498186d4a",
   "metadata": {},
   "outputs": [
    {
     "data": {
      "text/plain": [
       "0.8094753493414777"
      ]
     },
     "execution_count": 53,
     "metadata": {},
     "output_type": "execute_result"
    }
   ],
   "source": [
    "from sklearn.metrics import r2_score\n",
    "r2_score(y_test,y_pred)"
   ]
  },
  {
   "cell_type": "markdown",
   "id": "330a8838-57d8-40ce-89d8-cbe331f593ee",
   "metadata": {},
   "source": [
    "Mathematical Formulation of Multiple LinearRegression"
   ]
  },
  {
   "cell_type": "code",
   "execution_count": 115,
   "id": "6c503fba-2fd8-4141-90d8-faefd8f9baa1",
   "metadata": {},
   "outputs": [],
   "source": [
    "class Mylr:\n",
    "    def __init__(self):\n",
    "        self.coef_ = None\n",
    "        self.intercept_ = None\n",
    "\n",
    "    def fit(self,X_train,y_train):\n",
    "        X_train = np.insert(X_train,0,1,axis = 1)\n",
    "        result = np.linalg.inv(np.dot(X_train.T,X_train)).dot(X_train.T).dot(y_train)\n",
    "        self.intercept_ = result[0]\n",
    "        self.coef_ = result[1:]\n",
    "\n",
    "    def predict(self,X_test): \n",
    "        a = np.dot(X_test,self.coef_.reshape(-1,1))+self.intercept_\n",
    "        return a\n",
    "\n"
   ]
  },
  {
   "cell_type": "code",
   "execution_count": 116,
   "id": "50b46737-44b6-4658-8076-b937a5729c11",
   "metadata": {},
   "outputs": [],
   "source": [
    "Lr = Mylr()"
   ]
  },
  {
   "cell_type": "code",
   "execution_count": 117,
   "id": "eb43939c-31ac-40de-a583-717a43254312",
   "metadata": {},
   "outputs": [],
   "source": [
    "Lr.fit(X_train,y_train)"
   ]
  },
  {
   "cell_type": "code",
   "execution_count": 118,
   "id": "6a8973bb-aecb-4d5c-a7f4-e700cb2c460f",
   "metadata": {},
   "outputs": [
    {
     "data": {
      "text/plain": [
       "array([37.485471  ,  6.12047637, 39.10571707, 15.71954895])"
      ]
     },
     "execution_count": 118,
     "metadata": {},
     "output_type": "execute_result"
    }
   ],
   "source": [
    "Lr.coef_"
   ]
  },
  {
   "cell_type": "code",
   "execution_count": 119,
   "id": "fa618402-118e-471c-9fe4-3c4eaa0f730c",
   "metadata": {},
   "outputs": [
    {
     "data": {
      "text/plain": [
       "0.6971541714767696"
      ]
     },
     "execution_count": 119,
     "metadata": {},
     "output_type": "execute_result"
    }
   ],
   "source": [
    "Lr.intercept_"
   ]
  },
  {
   "cell_type": "code",
   "execution_count": 125,
   "id": "0bfa96e4-37e4-4795-9880-f8e265487cc8",
   "metadata": {},
   "outputs": [],
   "source": [
    "y_pred = Lr.predict(X_test)"
   ]
  },
  {
   "cell_type": "code",
   "execution_count": 123,
   "id": "8c812990-05d9-45f4-a0a6-1aa2f4710a53",
   "metadata": {},
   "outputs": [
    {
     "data": {
      "text/plain": [
       "array([  45.03010109,  -42.40683589,   81.65849535,   90.64247483,\n",
       "        -35.00101858,  -72.61749929,  -55.88506709,   -1.89144472,\n",
       "        -93.48670347, -107.25985363,  -44.04216285,   72.30925135,\n",
       "          2.83101008,  -65.82245412,   30.43438603,    4.7766089 ,\n",
       "        107.37810633,   29.95309336,    8.48587037,  -36.89908862,\n",
       "        -37.34416199,    4.85298464,   26.68529948,    4.61461408,\n",
       "        -72.53952506,   -1.39766021,  -55.04580199,    3.87021518,\n",
       "        124.31789828,   46.45838288,   64.75909169,  -71.0046737 ,\n",
       "          6.63709717,  -99.90441433,  -33.75766296,   55.68125747,\n",
       "          3.41323586, -100.58952547,  -73.03752013,   10.63018155,\n",
       "        -27.69566894,   76.42720999,    5.39701452,   62.03558576,\n",
       "        -76.08861708,  -48.13399012,   -1.72398534,   13.66895042,\n",
       "        -45.52672405,   86.92497325, -108.24830157,  -99.88401793,\n",
       "         -8.62416223,  -56.46000108,  -55.6514719 ,   10.69314538,\n",
       "         19.75347354,  -79.50692216,   10.10268676,  -62.99895408,\n",
       "        -46.07646412,  -28.30471807,   16.13297971,   50.42547946,\n",
       "        -31.01162773,  -73.48578203,  -19.00221575, -107.60506798,\n",
       "       -108.59167764,  -17.11441977,  -13.06735751,  -64.52818418,\n",
       "         20.45323423,  -31.85875159,   70.65318388,   44.27499019,\n",
       "        -20.17761897,   50.72061048,  -25.12636881,    5.8901806 ,\n",
       "        -36.29995969,   69.05140534,  -62.28319916,  -33.1078137 ,\n",
       "        100.27692223,  -30.87804086,   24.15446021,   38.17742279,\n",
       "        -88.30623886,  -12.66135118,   55.5398892 ,   42.91058258,\n",
       "         56.88805583,  -51.44098848,  -98.64303231,  -30.1899032 ,\n",
       "         47.07540819,   24.62447958,   51.07656849,  -21.30102197,\n",
       "         29.41782887,   92.22067558,   32.19334944,  -59.81367972,\n",
       "        -52.14532333,  -47.72252248,  -46.81253464,   25.28098782,\n",
       "         -9.63527177,  -89.78118835,  -14.73816917,  -53.23717011,\n",
       "         14.36381625,  -33.51101186,  -31.66375058,  -14.7094367 ,\n",
       "        -15.4579517 ,  -68.89999079,  -44.92513772,   45.21552589,\n",
       "         26.63823833,   57.4409874 ,   -6.16437836,  -36.39804433,\n",
       "        -50.28033669,   35.55200667,   81.23481095,  137.47156103,\n",
       "        -67.29584753,   -8.12643697,   53.97189993,  -46.25317493,\n",
       "         54.87076177,  -13.48926213,  -16.92774918,   41.64653722,\n",
       "         -9.25448908,  -90.39994963,  -43.26592343,    9.418477  ,\n",
       "         -0.4631441 ,   23.14376305,   17.27399933,  -54.20631336,\n",
       "         60.55380934,  -75.36169088, -161.54716972,   57.58481607,\n",
       "        -11.74852269,   14.91042383,  -19.88250289,  -34.40512622,\n",
       "        -80.86307309,   19.59023075,  -40.39741018, -139.69437989,\n",
       "        -40.20028566,    4.23613348,   18.39523951,    5.18423992,\n",
       "         98.89904872,  -71.55857477,  -66.54410865,  -71.76187148,\n",
       "         10.20697021,  -38.00308091,   22.18357163,  -75.8412098 ,\n",
       "          5.27703624,  -21.64975366,   53.26112998,   41.68328118,\n",
       "        -76.51452425, -128.26831716,   94.12105545,  100.41500309,\n",
       "        -31.407875  ,  -84.27376016,  -88.89731634, -124.76528798,\n",
       "        -37.99566903,  -37.06007042,   -2.87418125,   51.19450595,\n",
       "        -42.30572044,  -67.30982064,   20.14084969,   58.12809045,\n",
       "        -78.95778615,   31.32433302,   53.40128556,   42.43958943,\n",
       "         34.98417984,  -78.93365516,    8.29859959,    4.98826621,\n",
       "         33.54342693,   15.80922437,   -5.37346451,  -55.51871676])"
      ]
     },
     "execution_count": 123,
     "metadata": {},
     "output_type": "execute_result"
    }
   ],
   "source": [
    "lr.predict(X_test)"
   ]
  },
  {
   "cell_type": "code",
   "execution_count": null,
   "id": "b1fd2663-a700-49e2-99e1-3ea352697da0",
   "metadata": {},
   "outputs": [],
   "source": []
  },
  {
   "cell_type": "code",
   "execution_count": null,
   "id": "4868873b-5d49-4b39-8213-3cb2f8178a60",
   "metadata": {},
   "outputs": [],
   "source": []
  }
 ],
 "metadata": {
  "kernelspec": {
   "display_name": "Python 3 (ipykernel)",
   "language": "python",
   "name": "python3"
  },
  "language_info": {
   "codemirror_mode": {
    "name": "ipython",
    "version": 3
   },
   "file_extension": ".py",
   "mimetype": "text/x-python",
   "name": "python",
   "nbconvert_exporter": "python",
   "pygments_lexer": "ipython3",
   "version": "3.11.3"
  }
 },
 "nbformat": 4,
 "nbformat_minor": 5
}
